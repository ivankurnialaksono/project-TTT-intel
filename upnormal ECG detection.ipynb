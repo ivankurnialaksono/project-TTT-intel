{
 "cells": [
  {
   "cell_type": "markdown",
   "id": "d54efcd0",
   "metadata": {},
   "source": [
    "# import dataset\n",
    "\n",
    "dataset berupa data sinyal ekg yang terdiri dari subyek normal dan upnormal"
   ]
  },
  {
   "cell_type": "code",
   "execution_count": 1,
   "id": "9a324165",
   "metadata": {},
   "outputs": [],
   "source": [
    "import pandas as pd\n",
    "from sklearn.neighbors import KNeighborsClassifier\n",
    "from sklearn.model_selection import train_test_split\n",
    "from sklearn.preprocessing import StandardScaler"
   ]
  },
  {
   "cell_type": "code",
   "execution_count": 2,
   "id": "9b0bab00",
   "metadata": {},
   "outputs": [
    {
     "name": "stdout",
     "output_type": "stream",
     "text": [
      "      t1     t2     t3     t4     t5     t6      t7      t8      t9     t10  \\\n",
      "0  0.978  0.926  0.681  0.245  0.154  0.191  0.1520  0.0858  0.0588  0.0490   \n",
      "1  0.960  0.863  0.462  0.197  0.094  0.125  0.0997  0.0883  0.0741  0.0826   \n",
      "\n",
      "   ...  t179  t180  t181  t182  t183  t184  t185  t186  t187   class  \n",
      "0  ...   0.0   0.0   0.0   0.0   0.0   0.0   0.0   0.0   0.0  normal  \n",
      "1  ...   0.0   0.0   0.0   0.0   0.0   0.0   0.0   0.0   0.0  normal  \n",
      "\n",
      "[2 rows x 188 columns]\n",
      "<class 'pandas.core.frame.DataFrame'>\n",
      "RangeIndex: 87554 entries, 0 to 87553\n",
      "Columns: 188 entries, t1 to class\n",
      "dtypes: float64(187), object(1)\n",
      "memory usage: 125.6+ MB\n",
      "None\n",
      "                 t1            t2            t3            t4            t5  \\\n",
      "count  87554.000000  87554.000000  87554.000000  87554.000000  87554.000000   \n",
      "mean       0.890360      0.758161      0.423971      0.219103      0.201127   \n",
      "std        0.240908      0.221812      0.227306      0.206879      0.177057   \n",
      "min        0.000000      0.000000      0.000000      0.000000      0.000000   \n",
      "25%        0.922000      0.682250      0.251000      0.048500      0.082300   \n",
      "50%        0.991000      0.826000      0.429000      0.166000      0.148000   \n",
      "75%        1.000000      0.911000      0.579000      0.342000      0.259000   \n",
      "max        1.000000      1.000000      1.000000      1.000000      1.000000   \n",
      "\n",
      "                 t6            t7            t8            t9           t10  \\\n",
      "count  87554.000000  87554.000000  87554.000000  87554.000000  87554.000000   \n",
      "mean       0.210399      0.205807      0.201771      0.198690      0.196756   \n",
      "std        0.171909      0.178481      0.177241      0.171777      0.168357   \n",
      "min        0.000000      0.000000      0.000000      0.000000      0.000000   \n",
      "25%        0.088400      0.073300      0.066100      0.065000      0.068600   \n",
      "50%        0.159000      0.145000      0.144000      0.150000      0.149000   \n",
      "75%        0.288000      0.298000      0.295000      0.291000      0.284000   \n",
      "max        1.000000      1.000000      1.000000      1.000000      1.000000   \n",
      "\n",
      "       ...          t178          t179          t180          t181  \\\n",
      "count  ...  87554.000000  87554.000000  87554.000000  87554.000000   \n",
      "mean   ...      0.005478      0.005025      0.004628      0.004291   \n",
      "std    ...      0.046692      0.044154      0.042090      0.040524   \n",
      "min    ...      0.000000      0.000000      0.000000      0.000000   \n",
      "25%    ...      0.000000      0.000000      0.000000      0.000000   \n",
      "50%    ...      0.000000      0.000000      0.000000      0.000000   \n",
      "75%    ...      0.000000      0.000000      0.000000      0.000000   \n",
      "max    ...      1.000000      1.000000      1.000000      1.000000   \n",
      "\n",
      "               t182          t183          t184          t185          t186  \\\n",
      "count  87554.000000  87554.000000  87554.000000  87554.000000  87554.000000   \n",
      "mean       0.003945      0.003681      0.003471      0.003221      0.002944   \n",
      "std        0.038650      0.037194      0.036256      0.034789      0.032865   \n",
      "min        0.000000      0.000000      0.000000      0.000000      0.000000   \n",
      "25%        0.000000      0.000000      0.000000      0.000000      0.000000   \n",
      "50%        0.000000      0.000000      0.000000      0.000000      0.000000   \n",
      "75%        0.000000      0.000000      0.000000      0.000000      0.000000   \n",
      "max        1.000000      1.000000      1.000000      1.000000      1.000000   \n",
      "\n",
      "               t187  \n",
      "count  87554.000000  \n",
      "mean       0.002807  \n",
      "std        0.031923  \n",
      "min        0.000000  \n",
      "25%        0.000000  \n",
      "50%        0.000000  \n",
      "75%        0.000000  \n",
      "max        1.000000  \n",
      "\n",
      "[8 rows x 187 columns]\n"
     ]
    }
   ],
   "source": [
    "df = pd.read_csv(\"./EKG.csv\",header=None)\n",
    "names = ['t1','t2','t3','t4','t5','t6','t7','t8','t9','t10','t11','t12','t13','t14','t15','t16','t17','t18','t19','t20','t21','t22','t23','t24','t25','t26','t27','t28','t29','t30','t31','t32','t33','t34','t35','t36','t37','t38','t39','t40','t41','t42','t43','t44','t45','t46','t47','t48','t49','t50','t51','t52','t53','t54','t55','t56','t57','t58','t59','t60','t61','t62','t63','t64','t65','t66','t67','t68','t69','t70','t71','t72','t73','t74','t75','t76','t77','t78','t79','t80','t81','t82','t83','t84','t85','t86','t87','t88','t89','t90','t91','t92','t93','t94','t95','t96','t97','t98','t99','t100','t101','t102','t103','t104','t105','t106','t107','t108','t109','t110','t111','t112','t113','t114','t115','t116','t117','t118','t119','t120','t121','t122','t123','t124','t125','t126','t127','t128','t129','t130','t131','t132','t133','t134','t135','t136','t137','t138','t139','t140','t141','t142','t143','t144','t145','t146','t147','t148','t149','t150','t151','t152','t153','t154','t155','t156','t157','t158','t159','t160','t161','t162','t163','t164','t165','t166','t167','t168','t169','t170','t171','t172','t173','t174','t175','t176','t177','t178','t179','t180','t181','t182','t183','t184','t185','t186','t187'\n",
    ", 'class']\n",
    "df.columns = names\n",
    "print(df.head(2))\n",
    "print(df.info())\n",
    "print(df.describe())"
   ]
  },
  {
   "cell_type": "code",
   "execution_count": 3,
   "id": "f8889e2f",
   "metadata": {},
   "outputs": [
    {
     "data": {
      "text/plain": [
       "t1       0\n",
       "t2       0\n",
       "t3       0\n",
       "t4       0\n",
       "t5       0\n",
       "        ..\n",
       "t184     0\n",
       "t185     0\n",
       "t186     0\n",
       "t187     0\n",
       "class    0\n",
       "Length: 188, dtype: int64"
      ]
     },
     "execution_count": 3,
     "metadata": {},
     "output_type": "execute_result"
    }
   ],
   "source": [
    "df.isnull().sum()"
   ]
  },
  {
   "cell_type": "code",
   "execution_count": 4,
   "id": "1bc64ec8",
   "metadata": {},
   "outputs": [],
   "source": [
    "def label_encode(df):\n",
    "    df_labelled = df.copy()\n",
    "    # Dictionary to input the different numbers for different classes\n",
    "    label_encode = {\"class\": {\"normal\":0, \"supraventricular ectopic\":1, \"ventricular ectopic\":2, \"fusion\":3, \"unknown\":4}}\n",
    "\n",
    "    # Use .replace to change the different classes into numbers\n",
    "    df_labelled.replace(label_encode,inplace=True)\n",
    "    return df_labelled"
   ]
  },
  {
   "cell_type": "code",
   "execution_count": 5,
   "id": "4c451f51",
   "metadata": {},
   "outputs": [],
   "source": [
    "x_values = df[['t1','t2','t3','t4','t5','t6','t7','t8','t9','t10','t11','t12','t13','t14','t15','t16','t17','t18','t19','t20','t21','t22','t23','t24','t25','t26','t27','t28','t29','t30','t31','t32','t33','t34','t35','t36','t37','t38','t39','t40','t41','t42','t43','t44','t45','t46','t47','t48','t49','t50','t51','t52','t53','t54','t55','t56','t57','t58','t59','t60','t61','t62','t63','t64','t65','t66','t67','t68','t69','t70','t71','t72','t73','t74','t75','t76','t77','t78','t79','t80','t81','t82','t83','t84','t85','t86','t87','t88','t89','t90','t91','t92','t93','t94','t95','t96','t97','t98','t99','t100','t101','t102','t103','t104','t105','t106','t107','t108','t109','t110','t111','t112','t113','t114','t115','t116','t117','t118','t119','t120','t121','t122','t123','t124','t125','t126','t127','t128','t129','t130','t131','t132','t133','t134','t135','t136','t137','t138','t139','t140','t141','t142','t143','t144','t145','t146','t147','t148','t149','t150','t151','t152','t153','t154','t155','t156','t157','t158','t159','t160','t161','t162','t163','t164','t165','t166','t167','t168','t169','t170','t171','t172','t173','t174','t175','t176','t177','t178','t179','t180','t181','t182','t183','t184','t185','t186','t187'\n",
    "]]\n",
    "y_values = df['class']"
   ]
  },
  {
   "cell_type": "code",
   "execution_count": 7,
   "id": "a1aba671",
   "metadata": {},
   "outputs": [
    {
     "data": {
      "text/plain": [
       "[<matplotlib.lines.Line2D at 0x1c38f698910>]"
      ]
     },
     "execution_count": 7,
     "metadata": {},
     "output_type": "execute_result"
    },
    {
     "data": {
      "image/png": "[encoded data removed]",
      "text/plain": [
       "<Figure size 432x288 with 1 Axes>"
      ]
     },
     "metadata": {
      "needs_background": "light"
     },
     "output_type": "display_data"
    }
   ],
   "source": [
    "import ecg_plot\n",
    "import matplotlib.pyplot as plt\n",
    "\n",
    "plt.plot(df.iloc[0,:186]) #normal"
   ]
  },
  {
   "cell_type": "code",
   "execution_count": 8,
   "id": "584fac0a",
   "metadata": {},
   "outputs": [
    {
     "data": {
      "text/plain": [
       "[<matplotlib.lines.Line2D at 0x1c397546610>]"
      ]
     },
     "execution_count": 8,
     "metadata": {},
     "output_type": "execute_result"
    },
    {
     "data": {
      "image/png": "[encoded data removed]",
      "text/plain": [
       "<Figure size 432x288 with 1 Axes>"
      ]
     },
     "metadata": {
      "needs_background": "light"
     },
     "output_type": "display_data"
    }
   ],
   "source": [
    "plt.plot(df.iloc[72472,:186]) #supraventricular ectopic"
   ]
  },
  {
   "cell_type": "code",
   "execution_count": 9,
   "id": "3c309361",
   "metadata": {},
   "outputs": [
    {
     "data": {
      "text/plain": [
       "[<matplotlib.lines.Line2D at 0x1c3977f0a00>]"
      ]
     },
     "execution_count": 9,
     "metadata": {},
     "output_type": "execute_result"
    },
    {
     "data": {
      "image/png": "[encoded data removed]",
      "text/plain": [
       "<Figure size 432x288 with 1 Axes>"
      ]
     },
     "metadata": {
      "needs_background": "light"
     },
     "output_type": "display_data"
    }
   ],
   "source": [
    "plt.plot(df.iloc[74695,:186]) #ventricular ectopic"
   ]
  },
  {
   "cell_type": "code",
   "execution_count": 87,
   "id": "3ca27243",
   "metadata": {},
   "outputs": [
    {
     "data": {
      "text/plain": [
       "[<matplotlib.lines.Line2D at 0x2fca05f6df0>]"
      ]
     },
     "execution_count": 87,
     "metadata": {},
     "output_type": "execute_result"
    },
    {
     "data": {
      "image/png": "[encoded data removed]",
      "text/plain": [
       "<Figure size 432x288 with 1 Axes>"
      ]
     },
     "metadata": {
      "needs_background": "light"
     },
     "output_type": "display_data"
    }
   ],
   "source": [
    "plt.plot(df.iloc[80483,:186]) #fusion"
   ]
  },
  {
   "cell_type": "code",
   "execution_count": 88,
   "id": "437d9194",
   "metadata": {},
   "outputs": [
    {
     "data": {
      "text/plain": [
       "[<matplotlib.lines.Line2D at 0x2fc9c166700>]"
      ]
     },
     "execution_count": 88,
     "metadata": {},
     "output_type": "execute_result"
    },
    {
     "data": {
      "image/png": "[encoded data removed]",
      "text/plain": [
       "<Figure size 432x288 with 1 Axes>"
      ]
     },
     "metadata": {
      "needs_background": "light"
     },
     "output_type": "display_data"
    }
   ],
   "source": [
    "plt.plot(df.iloc[81124,:186]) #unknown"
   ]
  },
  {
   "cell_type": "markdown",
   "id": "385dbb7b",
   "metadata": {},
   "source": [
    "# Train and test"
   ]
  },
  {
   "cell_type": "code",
   "execution_count": 6,
   "id": "a9762f43",
   "metadata": {},
   "outputs": [],
   "source": [
    "x_train, x_test, y_train, y_test = train_test_split(x_values,y_values,test_size=0.3,random_state=10)\n",
    "scaler = StandardScaler()\n",
    "x_train_scale = scaler.fit_transform(x_train)\n",
    "x_test_scale = scaler.transform(x_test)"
   ]
  },
  {
   "cell_type": "code",
   "execution_count": 7,
   "id": "d3a55642",
   "metadata": {},
   "outputs": [],
   "source": [
    "#Train a K-Nearest Neighbours algorithm with the dataset.\n",
    "\n",
    "KNN = KNeighborsClassifier(n_neighbors=6) \n",
    "KNN = KNN.fit(x_train_scale,y_train)\n"
   ]
  },
  {
   "cell_type": "code",
   "execution_count": 8,
   "id": "1580f59c",
   "metadata": {},
   "outputs": [],
   "source": [
    "y_predict = KNN.predict(x_test_scale)"
   ]
  },
  {
   "cell_type": "markdown",
   "id": "ad07592a",
   "metadata": {},
   "source": [
    "# Conv materix"
   ]
  },
  {
   "cell_type": "code",
   "execution_count": 9,
   "id": "8c03e25d",
   "metadata": {},
   "outputs": [
    {
     "name": "stdout",
     "output_type": "stream",
     "text": [
      "[[  131    41     0     0    15]\n",
      " [   17 21639    38     7    87]\n",
      " [    0   223   426     0     7]\n",
      " [    0    81     0  1800    11]\n",
      " [   18   228    11    11  1476]]\n"
     ]
    }
   ],
   "source": [
    "from sklearn.metrics import confusion_matrix  \n",
    "matrix = (confusion_matrix(y_test, y_predict))  \n",
    "print(matrix)"
   ]
  },
  {
   "cell_type": "markdown",
   "id": "860f9f62",
   "metadata": {},
   "source": [
    "# Akurasi"
   ]
  },
  {
   "cell_type": "code",
   "execution_count": 10,
   "id": "1f3bbb16",
   "metadata": {},
   "outputs": [
    {
     "name": "stdout",
     "output_type": "stream",
     "text": [
      "96.97338866258043\n"
     ]
    }
   ],
   "source": [
    "akurasi = ((matrix[0,0]+matrix[1,1]+matrix[2,2]+matrix[3,3]+matrix[4,4])/(matrix[0,0]+matrix[0,1]+matrix[0,2]+matrix[0,3]+matrix[0,4]+matrix[1,0]+matrix[1,1]+matrix[1,2]+matrix[1,3]+matrix[1,4]+matrix[2,0]+matrix[2,1]+matrix[2,2]+matrix[2,3]+matrix[2,4]+matrix[3,0]+matrix[3,1]+matrix[3,2]+matrix[3,3]+matrix[3,4]+matrix[4,0]+matrix[4,1]+matrix[4,2]+matrix[4,3]+matrix[4,4])*100)\n",
    "print(akurasi)"
   ]
  },
  {
   "cell_type": "markdown",
   "id": "cb971514",
   "metadata": {},
   "source": [
    "# Predict"
   ]
  },
  {
   "cell_type": "code",
   "execution_count": 24,
   "id": "4b6faea7",
   "metadata": {},
   "outputs": [
    {
     "name": "stdout",
     "output_type": "stream",
     "text": [
      "['normal']\n"
     ]
    }
   ],
   "source": [
    "normalpredict = pd.read_csv(\"./predict normal.csv\")\n",
    "\n",
    "KNN = KNeighborsClassifier()\n",
    "\n",
    "# Extract out the x values and y values. x will be sepal_length and y will be classes\n",
    "x = df[['t1','t2','t3','t4','t5','t6','t7','t8','t9','t10','t11','t12','t13','t14','t15','t16','t17','t18','t19','t20','t21','t22','t23','t24','t25','t26','t27','t28','t29','t30','t31','t32','t33','t34','t35','t36','t37','t38','t39','t40','t41','t42','t43','t44','t45','t46','t47','t48','t49','t50','t51','t52','t53','t54','t55','t56','t57','t58','t59','t60','t61','t62','t63','t64','t65','t66','t67','t68','t69','t70','t71','t72','t73','t74','t75','t76','t77','t78','t79','t80','t81','t82','t83','t84','t85','t86','t87','t88','t89','t90','t91','t92','t93','t94','t95','t96','t97','t98','t99','t100','t101','t102','t103','t104','t105','t106','t107','t108','t109','t110','t111','t112','t113','t114','t115','t116','t117','t118','t119','t120','t121','t122','t123','t124','t125','t126','t127','t128','t129','t130','t131','t132','t133','t134','t135','t136','t137','t138','t139','t140','t141','t142','t143','t144','t145','t146','t147','t148','t149','t150','t151','t152','t153','t154','t155','t156','t157','t158','t159','t160','t161','t162','t163','t164','t165','t166','t167','t168','t169','t170','t171','t172','t173','t174','t175','t176','t177','t178','t179','t180','t181','t182','t183','t184','t185','t186','t187'\n",
    "]]\n",
    "y = df['class']\n",
    "\n",
    "# Train KNN using the x and y values. This is done through the .fit method.\n",
    "knn = KNN.fit(x,y)\n",
    "\n",
    "# Let us use the trained KNN to predict the type of flower if its sepal length = 5 and sepal_width = 3 We can use the .predict method to do so.\n",
    "test = normalpredict\n",
    "predictEKG = KNN.predict(test)\n",
    "\n",
    "print(predictEKG)"
   ]
  },
  {
   "cell_type": "code",
   "execution_count": 25,
   "id": "0dd408a2",
   "metadata": {},
   "outputs": [
    {
     "name": "stdout",
     "output_type": "stream",
     "text": [
      "['supraventicular ectopic']\n"
     ]
    }
   ],
   "source": [
    "SEpredict = pd.read_csv(\"./predict supraventricular ectopic.csv\")\n",
    "\n",
    "KNN = KNeighborsClassifier()\n",
    "\n",
    "# Extract out the x values and y values. x will be sepal_length and y will be classes\n",
    "x = df[['t1','t2','t3','t4','t5','t6','t7','t8','t9','t10','t11','t12','t13','t14','t15','t16','t17','t18','t19','t20','t21','t22','t23','t24','t25','t26','t27','t28','t29','t30','t31','t32','t33','t34','t35','t36','t37','t38','t39','t40','t41','t42','t43','t44','t45','t46','t47','t48','t49','t50','t51','t52','t53','t54','t55','t56','t57','t58','t59','t60','t61','t62','t63','t64','t65','t66','t67','t68','t69','t70','t71','t72','t73','t74','t75','t76','t77','t78','t79','t80','t81','t82','t83','t84','t85','t86','t87','t88','t89','t90','t91','t92','t93','t94','t95','t96','t97','t98','t99','t100','t101','t102','t103','t104','t105','t106','t107','t108','t109','t110','t111','t112','t113','t114','t115','t116','t117','t118','t119','t120','t121','t122','t123','t124','t125','t126','t127','t128','t129','t130','t131','t132','t133','t134','t135','t136','t137','t138','t139','t140','t141','t142','t143','t144','t145','t146','t147','t148','t149','t150','t151','t152','t153','t154','t155','t156','t157','t158','t159','t160','t161','t162','t163','t164','t165','t166','t167','t168','t169','t170','t171','t172','t173','t174','t175','t176','t177','t178','t179','t180','t181','t182','t183','t184','t185','t186','t187'\n",
    "]]\n",
    "y = df['class']\n",
    "\n",
    "# Train KNN using the x and y values. This is done through the .fit method.\n",
    "knn = KNN.fit(x,y)\n",
    "\n",
    "# Let us use the trained KNN to predict the type of flower if its sepal length = 5 and sepal_width = 3 We can use the .predict method to do so.\n",
    "test = SEpredict\n",
    "predictEKG = KNN.predict(test)\n",
    "\n",
    "print(predictEKG)"
   ]
  },
  {
   "cell_type": "code",
   "execution_count": 27,
   "id": "fc4dde87",
   "metadata": {},
   "outputs": [
    {
     "name": "stdout",
     "output_type": "stream",
     "text": [
      "['fusion']\n"
     ]
    }
   ],
   "source": [
    "VEpredict = pd.read_csv(\"./predict ventricular ectopic.csv\")\n",
    "\n",
    "KNN = KNeighborsClassifier()\n",
    "\n",
    "# Extract out the x values and y values. x will be sepal_length and y will be classes\n",
    "x = df[['t1','t2','t3','t4','t5','t6','t7','t8','t9','t10','t11','t12','t13','t14','t15','t16','t17','t18','t19','t20','t21','t22','t23','t24','t25','t26','t27','t28','t29','t30','t31','t32','t33','t34','t35','t36','t37','t38','t39','t40','t41','t42','t43','t44','t45','t46','t47','t48','t49','t50','t51','t52','t53','t54','t55','t56','t57','t58','t59','t60','t61','t62','t63','t64','t65','t66','t67','t68','t69','t70','t71','t72','t73','t74','t75','t76','t77','t78','t79','t80','t81','t82','t83','t84','t85','t86','t87','t88','t89','t90','t91','t92','t93','t94','t95','t96','t97','t98','t99','t100','t101','t102','t103','t104','t105','t106','t107','t108','t109','t110','t111','t112','t113','t114','t115','t116','t117','t118','t119','t120','t121','t122','t123','t124','t125','t126','t127','t128','t129','t130','t131','t132','t133','t134','t135','t136','t137','t138','t139','t140','t141','t142','t143','t144','t145','t146','t147','t148','t149','t150','t151','t152','t153','t154','t155','t156','t157','t158','t159','t160','t161','t162','t163','t164','t165','t166','t167','t168','t169','t170','t171','t172','t173','t174','t175','t176','t177','t178','t179','t180','t181','t182','t183','t184','t185','t186','t187'\n",
    "]]\n",
    "y = df['class']\n",
    "\n",
    "# Train KNN using the x and y values. This is done through the .fit method.\n",
    "knn = KNN.fit(x,y)\n",
    "\n",
    "# Let us use the trained KNN to predict the type of flower if its sepal length = 5 and sepal_width = 3 We can use the .predict method to do so.\n",
    "test = VEpredict\n",
    "predictEKG = KNN.predict(test)\n",
    "\n",
    "print(predictEKG)"
   ]
  },
  {
   "cell_type": "code",
   "execution_count": 83,
   "id": "f8c0d094",
   "metadata": {},
   "outputs": [
    {
     "name": "stdout",
     "output_type": "stream",
     "text": [
      "['fusion']\n"
     ]
    }
   ],
   "source": [
    "fusionpredict = pd.read_csv(\"./predict fusion.csv\")\n",
    "\n",
    "KNN = KNeighborsClassifier()\n",
    "\n",
    "# Extract out the x values and y values. x will be sepal_length and y will be classes\n",
    "x = df[['t1','t2','t3','t4','t5','t6','t7','t8','t9','t10','t11','t12','t13','t14','t15','t16','t17','t18','t19','t20','t21','t22','t23','t24','t25','t26','t27','t28','t29','t30','t31','t32','t33','t34','t35','t36','t37','t38','t39','t40','t41','t42','t43','t44','t45','t46','t47','t48','t49','t50','t51','t52','t53','t54','t55','t56','t57','t58','t59','t60','t61','t62','t63','t64','t65','t66','t67','t68','t69','t70','t71','t72','t73','t74','t75','t76','t77','t78','t79','t80','t81','t82','t83','t84','t85','t86','t87','t88','t89','t90','t91','t92','t93','t94','t95','t96','t97','t98','t99','t100','t101','t102','t103','t104','t105','t106','t107','t108','t109','t110','t111','t112','t113','t114','t115','t116','t117','t118','t119','t120','t121','t122','t123','t124','t125','t126','t127','t128','t129','t130','t131','t132','t133','t134','t135','t136','t137','t138','t139','t140','t141','t142','t143','t144','t145','t146','t147','t148','t149','t150','t151','t152','t153','t154','t155','t156','t157','t158','t159','t160','t161','t162','t163','t164','t165','t166','t167','t168','t169','t170','t171','t172','t173','t174','t175','t176','t177','t178','t179','t180','t181','t182','t183','t184','t185','t186','t187'\n",
    "]]\n",
    "y = df['class']\n",
    "\n",
    "# Train KNN using the x and y values. This is done through the .fit method.\n",
    "knn = KNN.fit(x,y)\n",
    "\n",
    "# Let us use the trained KNN to predict the type of flower if its sepal length = 5 and sepal_width = 3 We can use the .predict method to do so.\n",
    "test = fusionpredict\n",
    "predictEKG = KNN.predict(test)\n",
    "\n",
    "print(predictEKG)"
   ]
  },
  {
   "cell_type": "markdown",
   "id": "722215f5",
   "metadata": {},
   "source": [
    "# Decision tree"
   ]
  },
  {
   "cell_type": "code",
   "execution_count": 87,
   "id": "b7289a7b",
   "metadata": {},
   "outputs": [
    {
     "data": {
      "text/plain": [
       "DecisionTreeClassifier(max_depth=16, min_samples_split=6)"
      ]
     },
     "execution_count": 87,
     "metadata": {},
     "output_type": "execute_result"
    }
   ],
   "source": [
    "from sklearn import tree\n",
    "\n",
    "dt = tree.DecisionTreeClassifier(max_depth = 16, min_samples_split = 6)\n",
    "dt.fit(x_train_scale,y_train)"
   ]
  },
  {
   "cell_type": "code",
   "execution_count": 88,
   "id": "ca634e70",
   "metadata": {},
   "outputs": [],
   "source": [
    "y_predict = dt.predict(x_test_scale)"
   ]
  },
  {
   "cell_type": "code",
   "execution_count": 89,
   "id": "44b2368a",
   "metadata": {},
   "outputs": [
    {
     "name": "stdout",
     "output_type": "stream",
     "text": [
      "[[   97    72     0     0    18]\n",
      " [   17 21535    60    44   132]\n",
      " [    1   264   376     5    10]\n",
      " [    1   133     9  1730    19]\n",
      " [   19   264    13    22  1426]]\n"
     ]
    }
   ],
   "source": [
    "matrix2 = (confusion_matrix(y_test, y_predict))  \n",
    "print(matrix2)"
   ]
  },
  {
   "cell_type": "code",
   "execution_count": 90,
   "id": "c3ab6739",
   "metadata": {},
   "outputs": [
    {
     "name": "stdout",
     "output_type": "stream",
     "text": [
      "95.80081471047322\n"
     ]
    }
   ],
   "source": [
    "akurasi = ((matrix2[0,0]+matrix2[1,1]+matrix2[2,2]+matrix2[3,3]+matrix2[4,4])/(matrix2[0,0]+matrix2[0,1]+matrix2[0,2]+matrix2[0,3]+matrix2[0,4]+matrix2[1,0]+matrix2[1,1]+matrix2[1,2]+matrix2[1,3]+matrix2[1,4]+matrix2[2,0]+matrix2[2,1]+matrix2[2,2]+matrix2[2,3]+matrix2[2,4]+matrix2[3,0]+matrix2[3,1]+matrix2[3,2]+matrix2[3,3]+matrix2[3,4]+matrix2[4,0]+matrix2[4,1]+matrix2[4,2]+matrix2[4,3]+matrix2[4,4])*100)\n",
    "print(akurasi)"
   ]
  },
  {
   "cell_type": "markdown",
   "id": "4d9249a1",
   "metadata": {},
   "source": [
    "# predict"
   ]
  },
  {
   "cell_type": "code",
   "execution_count": 92,
   "id": "40c22471",
   "metadata": {},
   "outputs": [
    {
     "name": "stdout",
     "output_type": "stream",
     "text": [
      "['normal']\n"
     ]
    }
   ],
   "source": [
    "normalpredict = pd.read_csv(\"./predict normal.csv\")\n",
    "\n",
    "KNN = KNeighborsClassifier()\n",
    "\n",
    "# Extract out the x values and y values. x will be sepal_length and y will be classes\n",
    "x = df[['t1','t2','t3','t4','t5','t6','t7','t8','t9','t10','t11','t12','t13','t14','t15','t16','t17','t18','t19','t20','t21','t22','t23','t24','t25','t26','t27','t28','t29','t30','t31','t32','t33','t34','t35','t36','t37','t38','t39','t40','t41','t42','t43','t44','t45','t46','t47','t48','t49','t50','t51','t52','t53','t54','t55','t56','t57','t58','t59','t60','t61','t62','t63','t64','t65','t66','t67','t68','t69','t70','t71','t72','t73','t74','t75','t76','t77','t78','t79','t80','t81','t82','t83','t84','t85','t86','t87','t88','t89','t90','t91','t92','t93','t94','t95','t96','t97','t98','t99','t100','t101','t102','t103','t104','t105','t106','t107','t108','t109','t110','t111','t112','t113','t114','t115','t116','t117','t118','t119','t120','t121','t122','t123','t124','t125','t126','t127','t128','t129','t130','t131','t132','t133','t134','t135','t136','t137','t138','t139','t140','t141','t142','t143','t144','t145','t146','t147','t148','t149','t150','t151','t152','t153','t154','t155','t156','t157','t158','t159','t160','t161','t162','t163','t164','t165','t166','t167','t168','t169','t170','t171','t172','t173','t174','t175','t176','t177','t178','t179','t180','t181','t182','t183','t184','t185','t186','t187'\n",
    "]]\n",
    "y = df['class']\n",
    "\n",
    "# Train KNN using the x and y values. This is done through the .fit method.\n",
    "DT = dt.fit(x,y)\n",
    "\n",
    "# Let us use the trained KNN to predict the type of flower if its sepal length = 5 and sepal_width = 3 We can use the .predict method to do so.\n",
    "normaltest = normalpredict\n",
    "predictEKG = DT.predict(normaltest)\n",
    "\n",
    "print(predictEKG)"
   ]
  },
  {
   "cell_type": "code",
   "execution_count": 93,
   "id": "4c839626",
   "metadata": {},
   "outputs": [
    {
     "name": "stdout",
     "output_type": "stream",
     "text": [
      "['supraventicular ectopic']\n"
     ]
    }
   ],
   "source": [
    "SEpredict = pd.read_csv(\"./predict supraventricular ectopic.csv\")\n",
    "\n",
    "KNN = KNeighborsClassifier()\n",
    "\n",
    "# Extract out the x values and y values. x will be sepal_length and y will be classes\n",
    "x = df[['t1','t2','t3','t4','t5','t6','t7','t8','t9','t10','t11','t12','t13','t14','t15','t16','t17','t18','t19','t20','t21','t22','t23','t24','t25','t26','t27','t28','t29','t30','t31','t32','t33','t34','t35','t36','t37','t38','t39','t40','t41','t42','t43','t44','t45','t46','t47','t48','t49','t50','t51','t52','t53','t54','t55','t56','t57','t58','t59','t60','t61','t62','t63','t64','t65','t66','t67','t68','t69','t70','t71','t72','t73','t74','t75','t76','t77','t78','t79','t80','t81','t82','t83','t84','t85','t86','t87','t88','t89','t90','t91','t92','t93','t94','t95','t96','t97','t98','t99','t100','t101','t102','t103','t104','t105','t106','t107','t108','t109','t110','t111','t112','t113','t114','t115','t116','t117','t118','t119','t120','t121','t122','t123','t124','t125','t126','t127','t128','t129','t130','t131','t132','t133','t134','t135','t136','t137','t138','t139','t140','t141','t142','t143','t144','t145','t146','t147','t148','t149','t150','t151','t152','t153','t154','t155','t156','t157','t158','t159','t160','t161','t162','t163','t164','t165','t166','t167','t168','t169','t170','t171','t172','t173','t174','t175','t176','t177','t178','t179','t180','t181','t182','t183','t184','t185','t186','t187'\n",
    "]]\n",
    "y = df['class']\n",
    "\n",
    "# Train KNN using the x and y values. This is done through the .fit method.\n",
    "DT = dt.fit(x,y)\n",
    "\n",
    "# Let us use the trained KNN to predict the type of flower if its sepal length = 5 and sepal_width = 3 We can use the .predict method to do so.\n",
    "SEtest = SEpredict\n",
    "predictEKG = DT.predict(SEtest)\n",
    "\n",
    "print(predictEKG)"
   ]
  },
  {
   "cell_type": "code",
   "execution_count": 94,
   "id": "e0622ec4",
   "metadata": {},
   "outputs": [
    {
     "name": "stdout",
     "output_type": "stream",
     "text": [
      "['normal']\n"
     ]
    }
   ],
   "source": [
    "VEpredict = pd.read_csv(\"./predict ventricular ectopic.csv\")\n",
    "\n",
    "KNN = KNeighborsClassifier()\n",
    "\n",
    "# Extract out the x values and y values. x will be sepal_length and y will be classes\n",
    "x = df[['t1','t2','t3','t4','t5','t6','t7','t8','t9','t10','t11','t12','t13','t14','t15','t16','t17','t18','t19','t20','t21','t22','t23','t24','t25','t26','t27','t28','t29','t30','t31','t32','t33','t34','t35','t36','t37','t38','t39','t40','t41','t42','t43','t44','t45','t46','t47','t48','t49','t50','t51','t52','t53','t54','t55','t56','t57','t58','t59','t60','t61','t62','t63','t64','t65','t66','t67','t68','t69','t70','t71','t72','t73','t74','t75','t76','t77','t78','t79','t80','t81','t82','t83','t84','t85','t86','t87','t88','t89','t90','t91','t92','t93','t94','t95','t96','t97','t98','t99','t100','t101','t102','t103','t104','t105','t106','t107','t108','t109','t110','t111','t112','t113','t114','t115','t116','t117','t118','t119','t120','t121','t122','t123','t124','t125','t126','t127','t128','t129','t130','t131','t132','t133','t134','t135','t136','t137','t138','t139','t140','t141','t142','t143','t144','t145','t146','t147','t148','t149','t150','t151','t152','t153','t154','t155','t156','t157','t158','t159','t160','t161','t162','t163','t164','t165','t166','t167','t168','t169','t170','t171','t172','t173','t174','t175','t176','t177','t178','t179','t180','t181','t182','t183','t184','t185','t186','t187'\n",
    "]]\n",
    "y = df['class']\n",
    "\n",
    "# Train KNN using the x and y values. This is done through the .fit method.\n",
    "DT = dt.fit(x,y)\n",
    "\n",
    "# Let us use the trained KNN to predict the type of flower if its sepal length = 5 and sepal_width = 3 We can use the .predict method to do so.\n",
    "VEtest = VEpredict\n",
    "predictEKG = DT.predict(VEtest)\n",
    "\n",
    "print(predictEKG)"
   ]
  },
  {
   "cell_type": "code",
   "execution_count": 97,
   "id": "043f03b5",
   "metadata": {},
   "outputs": [
    {
     "name": "stdout",
     "output_type": "stream",
     "text": [
      "['normal']\n"
     ]
    }
   ],
   "source": [
    "fusionpredict = pd.read_csv(\"./predict fusion.csv\")\n",
    "\n",
    "KNN = KNeighborsClassifier()\n",
    "\n",
    "# Extract out the x values and y values. x will be sepal_length and y will be classes\n",
    "x = df[['t1','t2','t3','t4','t5','t6','t7','t8','t9','t10','t11','t12','t13','t14','t15','t16','t17','t18','t19','t20','t21','t22','t23','t24','t25','t26','t27','t28','t29','t30','t31','t32','t33','t34','t35','t36','t37','t38','t39','t40','t41','t42','t43','t44','t45','t46','t47','t48','t49','t50','t51','t52','t53','t54','t55','t56','t57','t58','t59','t60','t61','t62','t63','t64','t65','t66','t67','t68','t69','t70','t71','t72','t73','t74','t75','t76','t77','t78','t79','t80','t81','t82','t83','t84','t85','t86','t87','t88','t89','t90','t91','t92','t93','t94','t95','t96','t97','t98','t99','t100','t101','t102','t103','t104','t105','t106','t107','t108','t109','t110','t111','t112','t113','t114','t115','t116','t117','t118','t119','t120','t121','t122','t123','t124','t125','t126','t127','t128','t129','t130','t131','t132','t133','t134','t135','t136','t137','t138','t139','t140','t141','t142','t143','t144','t145','t146','t147','t148','t149','t150','t151','t152','t153','t154','t155','t156','t157','t158','t159','t160','t161','t162','t163','t164','t165','t166','t167','t168','t169','t170','t171','t172','t173','t174','t175','t176','t177','t178','t179','t180','t181','t182','t183','t184','t185','t186','t187'\n",
    "]]\n",
    "y = df['class']\n",
    "\n",
    "# Train KNN using the x and y values. This is done through the .fit method.\n",
    "DT = dt.fit(x,y)\n",
    "\n",
    "# Let us use the trained KNN to predict the type of flower if its sepal length = 5 and sepal_width = 3 We can use the .predict method to do so.\n",
    "fusiontest = fusionpredict\n",
    "predictEKG = DT.predict(fusiontest)\n",
    "\n",
    "print(predictEKG)"
   ]
  },
  {
   "cell_type": "code",
   "execution_count": null,
   "id": "51f36e23",
   "metadata": {},
   "outputs": [],
   "source": []
  }
 ],
 "metadata": {
  "kernelspec": {
   "display_name": "Python 3",
   "language": "python",
   "name": "python3"
  },
  "language_info": {
   "codemirror_mode": {
    "name": "ipython",
    "version": 3
   },
   "file_extension": ".py",
   "mimetype": "text/x-python",
   "name": "python",
   "nbconvert_exporter": "python",
   "pygments_lexer": "ipython3",
   "version": "3.8.8"
  }
 },
 "nbformat": 4,
 "nbformat_minor": 5
}
